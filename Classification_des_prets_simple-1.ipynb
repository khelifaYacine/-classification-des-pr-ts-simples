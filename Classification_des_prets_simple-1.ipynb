{
 "cells": [
  {
   "cell_type": "code",
   "execution_count": 111,
   "metadata": {},
   "outputs": [],
   "source": [
    "#Importation des packages\n",
    "import pandas as pd\n",
    "import numpy as np\n",
    "import matplotlib.pyplot as plt\n",
    "import seaborn as sns "
   ]
  },
  {
   "cell_type": "code",
   "execution_count": 112,
   "metadata": {},
   "outputs": [
    {
     "data": {
      "text/html": [
       "<div>\n",
       "<style scoped>\n",
       "    .dataframe tbody tr th:only-of-type {\n",
       "        vertical-align: middle;\n",
       "    }\n",
       "\n",
       "    .dataframe tbody tr th {\n",
       "        vertical-align: top;\n",
       "    }\n",
       "\n",
       "    .dataframe thead th {\n",
       "        text-align: right;\n",
       "    }\n",
       "</style>\n",
       "<table border=\"1\" class=\"dataframe\">\n",
       "  <thead>\n",
       "    <tr style=\"text-align: right;\">\n",
       "      <th></th>\n",
       "      <th>age</th>\n",
       "      <th>gender</th>\n",
       "      <th>occupation</th>\n",
       "      <th>education_level</th>\n",
       "      <th>marital_status</th>\n",
       "      <th>income</th>\n",
       "      <th>credit_score</th>\n",
       "      <th>loan_status</th>\n",
       "    </tr>\n",
       "  </thead>\n",
       "  <tbody>\n",
       "    <tr>\n",
       "      <th>0</th>\n",
       "      <td>32</td>\n",
       "      <td>Male</td>\n",
       "      <td>Engineer</td>\n",
       "      <td>Bachelor's</td>\n",
       "      <td>Married</td>\n",
       "      <td>85000</td>\n",
       "      <td>720</td>\n",
       "      <td>Approved</td>\n",
       "    </tr>\n",
       "    <tr>\n",
       "      <th>1</th>\n",
       "      <td>45</td>\n",
       "      <td>Female</td>\n",
       "      <td>Teacher</td>\n",
       "      <td>Master's</td>\n",
       "      <td>Single</td>\n",
       "      <td>62000</td>\n",
       "      <td>680</td>\n",
       "      <td>Approved</td>\n",
       "    </tr>\n",
       "    <tr>\n",
       "      <th>2</th>\n",
       "      <td>28</td>\n",
       "      <td>Male</td>\n",
       "      <td>Student</td>\n",
       "      <td>High School</td>\n",
       "      <td>Single</td>\n",
       "      <td>25000</td>\n",
       "      <td>590</td>\n",
       "      <td>Denied</td>\n",
       "    </tr>\n",
       "    <tr>\n",
       "      <th>3</th>\n",
       "      <td>51</td>\n",
       "      <td>Female</td>\n",
       "      <td>Manager</td>\n",
       "      <td>Bachelor's</td>\n",
       "      <td>Married</td>\n",
       "      <td>105000</td>\n",
       "      <td>780</td>\n",
       "      <td>Approved</td>\n",
       "    </tr>\n",
       "    <tr>\n",
       "      <th>4</th>\n",
       "      <td>36</td>\n",
       "      <td>Male</td>\n",
       "      <td>Accountant</td>\n",
       "      <td>Bachelor's</td>\n",
       "      <td>Married</td>\n",
       "      <td>75000</td>\n",
       "      <td>710</td>\n",
       "      <td>Approved</td>\n",
       "    </tr>\n",
       "    <tr>\n",
       "      <th>5</th>\n",
       "      <td>24</td>\n",
       "      <td>Female</td>\n",
       "      <td>Nurse</td>\n",
       "      <td>Associate's</td>\n",
       "      <td>Single</td>\n",
       "      <td>48000</td>\n",
       "      <td>640</td>\n",
       "      <td>Denied</td>\n",
       "    </tr>\n",
       "    <tr>\n",
       "      <th>6</th>\n",
       "      <td>42</td>\n",
       "      <td>Male</td>\n",
       "      <td>Lawyer</td>\n",
       "      <td>Doctoral</td>\n",
       "      <td>Married</td>\n",
       "      <td>120000</td>\n",
       "      <td>790</td>\n",
       "      <td>Approved</td>\n",
       "    </tr>\n",
       "    <tr>\n",
       "      <th>7</th>\n",
       "      <td>29</td>\n",
       "      <td>Female</td>\n",
       "      <td>Artist</td>\n",
       "      <td>Bachelor's</td>\n",
       "      <td>Single</td>\n",
       "      <td>38000</td>\n",
       "      <td>620</td>\n",
       "      <td>Denied</td>\n",
       "    </tr>\n",
       "    <tr>\n",
       "      <th>8</th>\n",
       "      <td>37</td>\n",
       "      <td>Male</td>\n",
       "      <td>IT</td>\n",
       "      <td>Master's</td>\n",
       "      <td>Married</td>\n",
       "      <td>92000</td>\n",
       "      <td>750</td>\n",
       "      <td>Approved</td>\n",
       "    </tr>\n",
       "    <tr>\n",
       "      <th>9</th>\n",
       "      <td>48</td>\n",
       "      <td>Female</td>\n",
       "      <td>Doctor</td>\n",
       "      <td>Doctoral</td>\n",
       "      <td>Married</td>\n",
       "      <td>180000</td>\n",
       "      <td>820</td>\n",
       "      <td>Approved</td>\n",
       "    </tr>\n",
       "  </tbody>\n",
       "</table>\n",
       "</div>"
      ],
      "text/plain": [
       "   age  gender  occupation education_level marital_status  income  \\\n",
       "0   32    Male    Engineer      Bachelor's        Married   85000   \n",
       "1   45  Female     Teacher        Master's         Single   62000   \n",
       "2   28    Male     Student     High School         Single   25000   \n",
       "3   51  Female     Manager      Bachelor's        Married  105000   \n",
       "4   36    Male  Accountant      Bachelor's        Married   75000   \n",
       "5   24  Female       Nurse     Associate's         Single   48000   \n",
       "6   42    Male      Lawyer        Doctoral        Married  120000   \n",
       "7   29  Female      Artist      Bachelor's         Single   38000   \n",
       "8   37    Male          IT        Master's        Married   92000   \n",
       "9   48  Female      Doctor        Doctoral        Married  180000   \n",
       "\n",
       "   credit_score loan_status  \n",
       "0           720    Approved  \n",
       "1           680    Approved  \n",
       "2           590      Denied  \n",
       "3           780    Approved  \n",
       "4           710    Approved  \n",
       "5           640      Denied  \n",
       "6           790    Approved  \n",
       "7           620      Denied  \n",
       "8           750    Approved  \n",
       "9           820    Approved  "
      ]
     },
     "execution_count": 112,
     "metadata": {},
     "output_type": "execute_result"
    }
   ],
   "source": [
    "df = pd.read_csv(\"loan.csv\")#Téléchargement de notre dataset\n",
    "df.head(10)#affichage de 10 premières lignes"
   ]
  },
  {
   "cell_type": "code",
   "execution_count": 113,
   "metadata": {},
   "outputs": [],
   "source": [
    "#On remarque et on distingue notre variable cible \"Loan_status\""
   ]
  },
  {
   "cell_type": "code",
   "execution_count": 114,
   "metadata": {},
   "outputs": [
    {
     "name": "stdout",
     "output_type": "stream",
     "text": [
      "<class 'pandas.core.frame.DataFrame'>\n",
      "RangeIndex: 61 entries, 0 to 60\n",
      "Data columns (total 8 columns):\n",
      " #   Column           Non-Null Count  Dtype \n",
      "---  ------           --------------  ----- \n",
      " 0   age              61 non-null     int64 \n",
      " 1   gender           61 non-null     object\n",
      " 2   occupation       61 non-null     object\n",
      " 3   education_level  61 non-null     object\n",
      " 4   marital_status   61 non-null     object\n",
      " 5   income           61 non-null     int64 \n",
      " 6   credit_score     61 non-null     int64 \n",
      " 7   loan_status      61 non-null     object\n",
      "dtypes: int64(3), object(5)\n",
      "memory usage: 3.9+ KB\n"
     ]
    }
   ],
   "source": [
    "df.info()# AFfichage des informations générales sur nos variables"
   ]
  },
  {
   "cell_type": "code",
   "execution_count": 115,
   "metadata": {},
   "outputs": [
    {
     "data": {
      "text/plain": [
       "age                0\n",
       "gender             0\n",
       "occupation         0\n",
       "education_level    0\n",
       "marital_status     0\n",
       "income             0\n",
       "credit_score       0\n",
       "loan_status        0\n",
       "dtype: int64"
      ]
     },
     "execution_count": 115,
     "metadata": {},
     "output_type": "execute_result"
    }
   ],
   "source": [
    "df.isna().sum()#pas de valeur manquante pour nos variable"
   ]
  },
  {
   "cell_type": "code",
   "execution_count": 116,
   "metadata": {},
   "outputs": [
    {
     "data": {
      "text/plain": [
       "array([32, 45, 28, 51, 36, 24, 42, 29, 37, 48, 55, 31, 26, 39, 44, 27, 34,\n",
       "       41, 30, 53, 38, 25, 46, 33, 40, 35, 43, 49, 54, 47, 52, 50],\n",
       "      dtype=int64)"
      ]
     },
     "execution_count": 116,
     "metadata": {},
     "output_type": "execute_result"
    }
   ],
   "source": [
    "#affichage de valeurs unique de nos variables \n",
    "df[\"age\"].unique()"
   ]
  },
  {
   "cell_type": "code",
   "execution_count": 117,
   "metadata": {},
   "outputs": [
    {
     "data": {
      "text/plain": [
       "array(['Male', 'Female'], dtype=object)"
      ]
     },
     "execution_count": 117,
     "metadata": {},
     "output_type": "execute_result"
    }
   ],
   "source": [
    "df[\"gender\"].unique()"
   ]
  },
  {
   "cell_type": "code",
   "execution_count": 118,
   "metadata": {},
   "outputs": [
    {
     "data": {
      "text/plain": [
       "array(['Engineer', 'Teacher', 'Student', 'Manager', 'Accountant', 'Nurse',\n",
       "       'Lawyer', 'Artist', 'IT', 'Doctor', 'Consultant', 'Analyst',\n",
       "       'Salesman', 'Marketing', 'Architect', 'Designer', 'Pharmacist',\n",
       "       'Researcher', 'Professor', 'Pilot', 'Receptionist', 'Banker',\n",
       "       'Writer', 'Chef', 'Veterinarian', 'Sales', 'HR', 'Electrician',\n",
       "       'Realtor', 'Photographer', 'Editor', 'Programmer', 'Dentist',\n",
       "       'Musician', 'Psychologist', 'Server', 'Software', 'Stylist'],\n",
       "      dtype=object)"
      ]
     },
     "execution_count": 118,
     "metadata": {},
     "output_type": "execute_result"
    }
   ],
   "source": [
    "df[\"occupation\"].unique ()"
   ]
  },
  {
   "cell_type": "code",
   "execution_count": 119,
   "metadata": {},
   "outputs": [
    {
     "data": {
      "text/plain": [
       "array([\"Bachelor's\", \"Master's\", 'High School', \"Associate's\", 'Doctoral'],\n",
       "      dtype=object)"
      ]
     },
     "execution_count": 119,
     "metadata": {},
     "output_type": "execute_result"
    }
   ],
   "source": [
    "df[\"education_level\"].unique()"
   ]
  },
  {
   "cell_type": "code",
   "execution_count": 120,
   "metadata": {},
   "outputs": [
    {
     "data": {
      "text/plain": [
       "array(['Married', 'Single'], dtype=object)"
      ]
     },
     "execution_count": 120,
     "metadata": {},
     "output_type": "execute_result"
    }
   ],
   "source": [
    "df[\"marital_status\"].unique()\n",
    "   "
   ]
  },
  {
   "cell_type": "code",
   "execution_count": 121,
   "metadata": {},
   "outputs": [
    {
     "data": {
      "text/plain": [
       "array([720, 680, 590, 780, 710, 640, 790, 620, 750, 820, 770, 690, 610,\n",
       "       730, 760, 650, 740, 800, 700, 580, 630, 670, 600, 810, 570, 560,\n",
       "       660, 830], dtype=int64)"
      ]
     },
     "execution_count": 121,
     "metadata": {},
     "output_type": "execute_result"
    }
   ],
   "source": [
    "df[\"credit_score\"].unique()"
   ]
  },
  {
   "cell_type": "code",
   "execution_count": 122,
   "metadata": {},
   "outputs": [
    {
     "data": {
      "text/plain": [
       "array([ 85000,  62000,  25000, 105000,  75000,  48000, 120000,  38000,\n",
       "        92000, 180000, 110000,  68000,  42000,  78000,  95000,  52000,\n",
       "        88000, 125000,  72000,  98000,  80000,  35000, 115000,  45000,\n",
       "        60000,  70000,  90000,  55000,  65000,  40000, 140000,  30000,\n",
       "       100000,  28000,  82000,  58000,  50000, 130000, 175000,  32000],\n",
       "      dtype=int64)"
      ]
     },
     "execution_count": 122,
     "metadata": {},
     "output_type": "execute_result"
    }
   ],
   "source": [
    "df[\"income\"].unique()"
   ]
  },
  {
   "cell_type": "code",
   "execution_count": 123,
   "metadata": {},
   "outputs": [
    {
     "data": {
      "text/plain": [
       "array(['Approved', 'Denied'], dtype=object)"
      ]
     },
     "execution_count": 123,
     "metadata": {},
     "output_type": "execute_result"
    }
   ],
   "source": [
    "df[\"loan_status\"].unique()"
   ]
  },
  {
   "cell_type": "markdown",
   "metadata": {},
   "source": [
    "Notre jeu de donnée est propre sans valeur manquante et bien structuré. Il nous reste que à réaliser de l'encodage pour nos variable object pour les rendre numérique."
   ]
  },
  {
   "cell_type": "code",
   "execution_count": 124,
   "metadata": {},
   "outputs": [
    {
     "data": {
      "text/plain": [
       "<Figure size 1000x1000 with 0 Axes>"
      ]
     },
     "metadata": {},
     "output_type": "display_data"
    },
    {
     "data": {
      "image/png": "[encoded data removed]",
      "text/plain": [
       "<Figure size 500x500 with 1 Axes>"
      ]
     },
     "metadata": {},
     "output_type": "display_data"
    }
   ],
   "source": [
    "plt.figure(figsize= (10,10))\n",
    "sns.displot(df[\"credit_score\"], color = \"g\", )\n",
    "plt.title(\"Distribution du score de crédit \", color = \"k\");\n",
    "plt.xlabel(\"credit_score\")\n",
    "plt.ylabel(\"Fréquence\")\n",
    "plt.show()"
   ]
  },
  {
   "cell_type": "code",
   "execution_count": 125,
   "metadata": {},
   "outputs": [
    {
     "name": "stderr",
     "output_type": "stream",
     "text": [
      "C:\\Users\\yacin\\AppData\\Local\\Temp\\ipykernel_28932\\3990867374.py:3: FutureWarning: \n",
      "\n",
      "Passing `palette` without assigning `hue` is deprecated and will be removed in v0.14.0. Assign the `x` variable to `hue` and set `legend=False` for the same effect.\n",
      "\n",
      "  sns.countplot(data = df, x= \"loan_status\", palette= \"viridis\");\n"
     ]
    },
    {
     "data": {
      "image/png": "[encoded data removed]",
      "text/plain": [
       "<Figure size 1000x1000 with 1 Axes>"
      ]
     },
     "metadata": {},
     "output_type": "display_data"
    }
   ],
   "source": [
    "plt.figure(figsize= (10,10))\n",
    "plt.title(\"LE compte de Loan Statut\")\n",
    "sns.countplot(data = df, x= \"loan_status\", palette= \"viridis\");\n",
    "plt.xlabel(\"loan_status\")\n",
    "plt.ylabel(\"Count\")\n",
    "plt.show()"
   ]
  },
  {
   "cell_type": "code",
   "execution_count": 126,
   "metadata": {},
   "outputs": [
    {
     "data": {
      "image/png": "[encoded data removed]",
      "text/plain": [
       "<Figure size 1000x1000 with 1 Axes>"
      ]
     },
     "metadata": {},
     "output_type": "display_data"
    }
   ],
   "source": [
    "plt.figure(figsize= (10,10))\n",
    "plt.title (\"Boxplot de l'age\")\n",
    "sns.boxplot(df[\"age\"]);"
   ]
  }
 ],
 "metadata": {
  "kernelspec": {
   "display_name": "Python 3",
   "language": "python",
   "name": "python3"
  },
  "language_info": {
   "codemirror_mode": {
    "name": "ipython",
    "version": 3
   },
   "file_extension": ".py",
   "mimetype": "text/x-python",
   "name": "python",
   "nbconvert_exporter": "python",
   "pygments_lexer": "ipython3",
   "version": "3.12.2"
  }
 },
 "nbformat": 4,
 "nbformat_minor": 2
}
